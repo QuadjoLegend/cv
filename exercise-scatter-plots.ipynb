{
 "cells": [
  {
   "cell_type": "markdown",
   "id": "8f7e23c7",
   "metadata": {
    "papermill": {
     "duration": 0.009051,
     "end_time": "2023-12-07T03:22:55.460819",
     "exception": false,
     "start_time": "2023-12-07T03:22:55.451768",
     "status": "completed"
    },
    "tags": []
   },
   "source": [
    "**This notebook is an exercise in the [Data Visualization](https://www.kaggle.com/learn/data-visualization) course.  You can reference the tutorial at [this link](https://www.kaggle.com/alexisbcook/scatter-plots).**\n",
    "\n",
    "---\n"
   ]
  },
  {
   "cell_type": "markdown",
   "id": "dfbfe5cd",
   "metadata": {
    "papermill": {
     "duration": 0.008053,
     "end_time": "2023-12-07T03:22:55.477535",
     "exception": false,
     "start_time": "2023-12-07T03:22:55.469482",
     "status": "completed"
    },
    "tags": []
   },
   "source": [
    "In this exercise, you will use your new knowledge to propose a solution to a real-world scenario.  To succeed, you will need to import data into Python, answer questions using the data, and generate **scatter plots** to understand patterns in the data.\n",
    "\n",
    "## Scenario\n",
    "\n",
    "You work for a major candy producer, and your goal is to write a report that your company can use to guide the design of its next product.  Soon after starting your research, you stumble across this [very interesting dataset](https://fivethirtyeight.com/features/the-ultimate-halloween-candy-power-ranking/) containing results from a fun survey to crowdsource favorite candies.\n",
    "\n",
    "## Setup\n",
    "\n",
    "Run the next cell to import and configure the Python libraries that you need to complete the exercise."
   ]
  },
  {
   "cell_type": "code",
   "execution_count": 1,
   "id": "c8f796ac",
   "metadata": {
    "execution": {
     "iopub.execute_input": "2023-12-07T03:22:55.496835Z",
     "iopub.status.busy": "2023-12-07T03:22:55.496451Z",
     "iopub.status.idle": "2023-12-07T03:22:57.296887Z",
     "shell.execute_reply": "2023-12-07T03:22:57.293962Z"
    },
    "papermill": {
     "duration": 1.813841,
     "end_time": "2023-12-07T03:22:57.299893",
     "exception": false,
     "start_time": "2023-12-07T03:22:55.486052",
     "status": "completed"
    },
    "tags": []
   },
   "outputs": [
    {
     "name": "stdout",
     "output_type": "stream",
     "text": [
      "Setup Complete\n"
     ]
    }
   ],
   "source": [
    "import pandas as pd\n",
    "pd.plotting.register_matplotlib_converters()\n",
    "import matplotlib.pyplot as plt\n",
    "%matplotlib inline\n",
    "import seaborn as sns\n",
    "print(\"Setup Complete\")"
   ]
  },
  {
   "cell_type": "markdown",
   "id": "b91eb7f5",
   "metadata": {
    "papermill": {
     "duration": 0.008686,
     "end_time": "2023-12-07T03:22:57.317551",
     "exception": false,
     "start_time": "2023-12-07T03:22:57.308865",
     "status": "completed"
    },
    "tags": []
   },
   "source": [
    "The questions below will give you feedback on your work. Run the following cell to set up our feedback system."
   ]
  },
  {
   "cell_type": "code",
   "execution_count": 2,
   "id": "78bafe20",
   "metadata": {
    "execution": {
     "iopub.execute_input": "2023-12-07T03:22:57.337227Z",
     "iopub.status.busy": "2023-12-07T03:22:57.336682Z",
     "iopub.status.idle": "2023-12-07T03:22:57.509050Z",
     "shell.execute_reply": "2023-12-07T03:22:57.507905Z"
    },
    "papermill": {
     "duration": 0.185716,
     "end_time": "2023-12-07T03:22:57.512262",
     "exception": false,
     "start_time": "2023-12-07T03:22:57.326546",
     "status": "completed"
    },
    "tags": []
   },
   "outputs": [
    {
     "name": "stdout",
     "output_type": "stream",
     "text": [
      "Setup Complete\n"
     ]
    }
   ],
   "source": [
    "# Set up code checking\n",
    "import os\n",
    "if not os.path.exists(\"../input/candy.csv\"):\n",
    "    os.symlink(\"../input/data-for-datavis/candy.csv\", \"../input/candy.csv\") \n",
    "from learntools.core import binder\n",
    "binder.bind(globals())\n",
    "from learntools.data_viz_to_coder.ex4 import *\n",
    "print(\"Setup Complete\")"
   ]
  },
  {
   "cell_type": "markdown",
   "id": "fee7e168",
   "metadata": {
    "papermill": {
     "duration": 0.013446,
     "end_time": "2023-12-07T03:22:57.540265",
     "exception": false,
     "start_time": "2023-12-07T03:22:57.526819",
     "status": "completed"
    },
    "tags": []
   },
   "source": [
    "## Step 1: Load the Data\n",
    "\n",
    "Read the candy data file into `candy_data`.  Use the `\"id\"` column to label the rows."
   ]
  },
  {
   "cell_type": "code",
   "execution_count": 3,
   "id": "edb759b3",
   "metadata": {
    "execution": {
     "iopub.execute_input": "2023-12-07T03:22:57.560871Z",
     "iopub.status.busy": "2023-12-07T03:22:57.560183Z",
     "iopub.status.idle": "2023-12-07T03:22:57.581185Z",
     "shell.execute_reply": "2023-12-07T03:22:57.579931Z"
    },
    "papermill": {
     "duration": 0.033624,
     "end_time": "2023-12-07T03:22:57.583476",
     "exception": false,
     "start_time": "2023-12-07T03:22:57.549852",
     "status": "completed"
    },
    "tags": []
   },
   "outputs": [
    {
     "data": {
      "application/javascript": [
       "parent.postMessage({\"jupyterEvent\": \"custom.exercise_interaction\", \"data\": {\"outcomeType\": 1, \"valueTowardsCompletion\": 0.3333333333333333, \"interactionType\": 1, \"questionType\": 1, \"questionId\": \"1_LoadData\", \"learnToolsVersion\": \"0.3.4\", \"failureMessage\": \"\", \"exceptionClass\": \"\", \"trace\": \"\"}}, \"*\")"
      ],
      "text/plain": [
       "<IPython.core.display.Javascript object>"
      ]
     },
     "metadata": {},
     "output_type": "display_data"
    },
    {
     "data": {
      "text/markdown": [
       "<span style=\"color:#33cc33\">Correct</span>"
      ],
      "text/plain": [
       "Correct"
      ]
     },
     "metadata": {},
     "output_type": "display_data"
    }
   ],
   "source": [
    "# Path of the file to read\n",
    "candy_filepath = \"../input/candy.csv\"\n",
    "\n",
    "# Fill in the line below to read the file into a variable candy_data\n",
    "candy_data = pd.read_csv(candy_filepath, index_col = 'id')\n",
    "\n",
    "# Run the line below with no changes to check that you've loaded the data correctly\n",
    "step_1.check()"
   ]
  },
  {
   "cell_type": "code",
   "execution_count": 4,
   "id": "4e8bf22c",
   "metadata": {
    "execution": {
     "iopub.execute_input": "2023-12-07T03:22:57.612895Z",
     "iopub.status.busy": "2023-12-07T03:22:57.611910Z",
     "iopub.status.idle": "2023-12-07T03:22:57.616836Z",
     "shell.execute_reply": "2023-12-07T03:22:57.615982Z"
    },
    "papermill": {
     "duration": 0.025848,
     "end_time": "2023-12-07T03:22:57.619169",
     "exception": false,
     "start_time": "2023-12-07T03:22:57.593321",
     "status": "completed"
    },
    "tags": []
   },
   "outputs": [],
   "source": [
    "# Lines below will give you a hint or solution code\n",
    "#step_1.hint()\n",
    "#step_1.solution()"
   ]
  },
  {
   "cell_type": "markdown",
   "id": "f0b75977",
   "metadata": {
    "papermill": {
     "duration": 0.009837,
     "end_time": "2023-12-07T03:22:57.638172",
     "exception": false,
     "start_time": "2023-12-07T03:22:57.628335",
     "status": "completed"
    },
    "tags": []
   },
   "source": [
    "## Step 2: Review the data\n",
    "\n",
    "Use a Python command to print the first five rows of the data."
   ]
  },
  {
   "cell_type": "code",
   "execution_count": 5,
   "id": "636162e8",
   "metadata": {
    "execution": {
     "iopub.execute_input": "2023-12-07T03:22:57.659870Z",
     "iopub.status.busy": "2023-12-07T03:22:57.659473Z",
     "iopub.status.idle": "2023-12-07T03:22:57.687097Z",
     "shell.execute_reply": "2023-12-07T03:22:57.685615Z"
    },
    "papermill": {
     "duration": 0.042901,
     "end_time": "2023-12-07T03:22:57.690362",
     "exception": false,
     "start_time": "2023-12-07T03:22:57.647461",
     "status": "completed"
    },
    "tags": []
   },
   "outputs": [
    {
     "data": {
      "text/html": [
       "<div>\n",
       "<style scoped>\n",
       "    .dataframe tbody tr th:only-of-type {\n",
       "        vertical-align: middle;\n",
       "    }\n",
       "\n",
       "    .dataframe tbody tr th {\n",
       "        vertical-align: top;\n",
       "    }\n",
       "\n",
       "    .dataframe thead th {\n",
       "        text-align: right;\n",
       "    }\n",
       "</style>\n",
       "<table border=\"1\" class=\"dataframe\">\n",
       "  <thead>\n",
       "    <tr style=\"text-align: right;\">\n",
       "      <th></th>\n",
       "      <th>competitorname</th>\n",
       "      <th>chocolate</th>\n",
       "      <th>fruity</th>\n",
       "      <th>caramel</th>\n",
       "      <th>peanutyalmondy</th>\n",
       "      <th>nougat</th>\n",
       "      <th>crispedricewafer</th>\n",
       "      <th>hard</th>\n",
       "      <th>bar</th>\n",
       "      <th>pluribus</th>\n",
       "      <th>sugarpercent</th>\n",
       "      <th>pricepercent</th>\n",
       "      <th>winpercent</th>\n",
       "    </tr>\n",
       "    <tr>\n",
       "      <th>id</th>\n",
       "      <th></th>\n",
       "      <th></th>\n",
       "      <th></th>\n",
       "      <th></th>\n",
       "      <th></th>\n",
       "      <th></th>\n",
       "      <th></th>\n",
       "      <th></th>\n",
       "      <th></th>\n",
       "      <th></th>\n",
       "      <th></th>\n",
       "      <th></th>\n",
       "      <th></th>\n",
       "    </tr>\n",
       "  </thead>\n",
       "  <tbody>\n",
       "    <tr>\n",
       "      <th>0</th>\n",
       "      <td>100 Grand</td>\n",
       "      <td>Yes</td>\n",
       "      <td>No</td>\n",
       "      <td>Yes</td>\n",
       "      <td>No</td>\n",
       "      <td>No</td>\n",
       "      <td>Yes</td>\n",
       "      <td>No</td>\n",
       "      <td>Yes</td>\n",
       "      <td>No</td>\n",
       "      <td>0.732</td>\n",
       "      <td>0.860</td>\n",
       "      <td>66.971725</td>\n",
       "    </tr>\n",
       "    <tr>\n",
       "      <th>1</th>\n",
       "      <td>3 Musketeers</td>\n",
       "      <td>Yes</td>\n",
       "      <td>No</td>\n",
       "      <td>No</td>\n",
       "      <td>No</td>\n",
       "      <td>Yes</td>\n",
       "      <td>No</td>\n",
       "      <td>No</td>\n",
       "      <td>Yes</td>\n",
       "      <td>No</td>\n",
       "      <td>0.604</td>\n",
       "      <td>0.511</td>\n",
       "      <td>67.602936</td>\n",
       "    </tr>\n",
       "    <tr>\n",
       "      <th>2</th>\n",
       "      <td>Air Heads</td>\n",
       "      <td>No</td>\n",
       "      <td>Yes</td>\n",
       "      <td>No</td>\n",
       "      <td>No</td>\n",
       "      <td>No</td>\n",
       "      <td>No</td>\n",
       "      <td>No</td>\n",
       "      <td>No</td>\n",
       "      <td>No</td>\n",
       "      <td>0.906</td>\n",
       "      <td>0.511</td>\n",
       "      <td>52.341465</td>\n",
       "    </tr>\n",
       "    <tr>\n",
       "      <th>3</th>\n",
       "      <td>Almond Joy</td>\n",
       "      <td>Yes</td>\n",
       "      <td>No</td>\n",
       "      <td>No</td>\n",
       "      <td>Yes</td>\n",
       "      <td>No</td>\n",
       "      <td>No</td>\n",
       "      <td>No</td>\n",
       "      <td>Yes</td>\n",
       "      <td>No</td>\n",
       "      <td>0.465</td>\n",
       "      <td>0.767</td>\n",
       "      <td>50.347546</td>\n",
       "    </tr>\n",
       "    <tr>\n",
       "      <th>4</th>\n",
       "      <td>Baby Ruth</td>\n",
       "      <td>Yes</td>\n",
       "      <td>No</td>\n",
       "      <td>Yes</td>\n",
       "      <td>Yes</td>\n",
       "      <td>Yes</td>\n",
       "      <td>No</td>\n",
       "      <td>No</td>\n",
       "      <td>Yes</td>\n",
       "      <td>No</td>\n",
       "      <td>0.604</td>\n",
       "      <td>0.767</td>\n",
       "      <td>56.914547</td>\n",
       "    </tr>\n",
       "  </tbody>\n",
       "</table>\n",
       "</div>"
      ],
      "text/plain": [
       "   competitorname chocolate fruity caramel peanutyalmondy nougat  \\\n",
       "id                                                                 \n",
       "0       100 Grand       Yes     No     Yes             No     No   \n",
       "1    3 Musketeers       Yes     No      No             No    Yes   \n",
       "2       Air Heads        No    Yes      No             No     No   \n",
       "3      Almond Joy       Yes     No      No            Yes     No   \n",
       "4       Baby Ruth       Yes     No     Yes            Yes    Yes   \n",
       "\n",
       "   crispedricewafer hard  bar pluribus  sugarpercent  pricepercent  winpercent  \n",
       "id                                                                              \n",
       "0               Yes   No  Yes       No         0.732         0.860   66.971725  \n",
       "1                No   No  Yes       No         0.604         0.511   67.602936  \n",
       "2                No   No   No       No         0.906         0.511   52.341465  \n",
       "3                No   No  Yes       No         0.465         0.767   50.347546  \n",
       "4                No   No  Yes       No         0.604         0.767   56.914547  "
      ]
     },
     "execution_count": 5,
     "metadata": {},
     "output_type": "execute_result"
    }
   ],
   "source": [
    "# Print the first five rows of the data\n",
    "candy_data.head() # Your code here"
   ]
  },
  {
   "cell_type": "markdown",
   "id": "0c5bc758",
   "metadata": {
    "papermill": {
     "duration": 0.013752,
     "end_time": "2023-12-07T03:22:57.717309",
     "exception": false,
     "start_time": "2023-12-07T03:22:57.703557",
     "status": "completed"
    },
    "tags": []
   },
   "source": [
    "The dataset contains 83 rows, where each corresponds to a different candy bar.  There are 13 columns:\n",
    "- `'competitorname'` contains the name of the candy bar. \n",
    "- the next **9** columns (from `'chocolate'` to `'pluribus'`) describe the candy.  For instance, rows with chocolate candies have `\"Yes\"` in the `'chocolate'` column (and candies without chocolate have `\"No\"` in the same column).\n",
    "- `'sugarpercent'` provides some indication of the amount of sugar, where higher values signify higher sugar content.\n",
    "- `'pricepercent'` shows the price per unit, relative to the other candies in the dataset.\n",
    "- `'winpercent'` is calculated from the survey results; higher values indicate that the candy was more popular with survey respondents.\n",
    "\n",
    "Use the first five rows of the data to answer the questions below."
   ]
  },
  {
   "cell_type": "code",
   "execution_count": 6,
   "id": "6a1874a9",
   "metadata": {
    "execution": {
     "iopub.execute_input": "2023-12-07T03:22:57.749645Z",
     "iopub.status.busy": "2023-12-07T03:22:57.748348Z",
     "iopub.status.idle": "2023-12-07T03:22:57.759223Z",
     "shell.execute_reply": "2023-12-07T03:22:57.758027Z"
    },
    "papermill": {
     "duration": 0.029411,
     "end_time": "2023-12-07T03:22:57.762188",
     "exception": false,
     "start_time": "2023-12-07T03:22:57.732777",
     "status": "completed"
    },
    "tags": []
   },
   "outputs": [
    {
     "data": {
      "application/javascript": [
       "parent.postMessage({\"jupyterEvent\": \"custom.exercise_interaction\", \"data\": {\"outcomeType\": 1, \"valueTowardsCompletion\": 0.3333333333333333, \"interactionType\": 1, \"questionType\": 1, \"questionId\": \"2_ReviewData\", \"learnToolsVersion\": \"0.3.4\", \"failureMessage\": \"\", \"exceptionClass\": \"\", \"trace\": \"\"}}, \"*\")"
      ],
      "text/plain": [
       "<IPython.core.display.Javascript object>"
      ]
     },
     "metadata": {},
     "output_type": "display_data"
    },
    {
     "data": {
      "text/markdown": [
       "<span style=\"color:#33cc33\">Correct</span>"
      ],
      "text/plain": [
       "Correct"
      ]
     },
     "metadata": {},
     "output_type": "display_data"
    }
   ],
   "source": [
    "# Fill in the line below: Which candy was more popular with survey respondents:\n",
    "# '3 Musketeers' or 'Almond Joy'?  (Please enclose your answer in single quotes.)\n",
    "more_popular = '3 Musketeers'\n",
    "\n",
    "# Fill in the line below: Which candy has higher sugar content: 'Air Heads'\n",
    "# or 'Baby Ruth'? (Please enclose your answer in single quotes.)\n",
    "more_sugar = 'Air Heads'\n",
    "\n",
    "# Check your answers\n",
    "step_2.check()"
   ]
  },
  {
   "cell_type": "code",
   "execution_count": 7,
   "id": "69896983",
   "metadata": {
    "execution": {
     "iopub.execute_input": "2023-12-07T03:22:57.790126Z",
     "iopub.status.busy": "2023-12-07T03:22:57.789736Z",
     "iopub.status.idle": "2023-12-07T03:22:57.795087Z",
     "shell.execute_reply": "2023-12-07T03:22:57.793575Z"
    },
    "papermill": {
     "duration": 0.020471,
     "end_time": "2023-12-07T03:22:57.797682",
     "exception": false,
     "start_time": "2023-12-07T03:22:57.777211",
     "status": "completed"
    },
    "tags": []
   },
   "outputs": [],
   "source": [
    "# Lines below will give you a hint or solution code\n",
    "#step_2.hint()\n",
    "#step_2.solution()"
   ]
  },
  {
   "cell_type": "markdown",
   "id": "0786fa3d",
   "metadata": {
    "papermill": {
     "duration": 0.010364,
     "end_time": "2023-12-07T03:22:57.819348",
     "exception": false,
     "start_time": "2023-12-07T03:22:57.808984",
     "status": "completed"
    },
    "tags": []
   },
   "source": [
    "## Step 3: The role of sugar\n",
    "\n",
    "Do people tend to prefer candies with higher sugar content?  \n",
    "\n",
    "#### Part A\n",
    "\n",
    "Create a scatter plot that shows the relationship between `'sugarpercent'` (on the horizontal x-axis) and `'winpercent'` (on the vertical y-axis).  _Don't add a regression line just yet -- you'll do that in the next step!_"
   ]
  },
  {
   "cell_type": "code",
   "execution_count": 8,
   "id": "a55b95d6",
   "metadata": {
    "execution": {
     "iopub.execute_input": "2023-12-07T03:22:57.840746Z",
     "iopub.status.busy": "2023-12-07T03:22:57.840036Z",
     "iopub.status.idle": "2023-12-07T03:22:58.186098Z",
     "shell.execute_reply": "2023-12-07T03:22:58.184583Z"
    },
    "papermill": {
     "duration": 0.359657,
     "end_time": "2023-12-07T03:22:58.188625",
     "exception": false,
     "start_time": "2023-12-07T03:22:57.828968",
     "status": "completed"
    },
    "tags": []
   },
   "outputs": [
    {
     "data": {
      "application/javascript": [
       "parent.postMessage({\"jupyterEvent\": \"custom.exercise_interaction\", \"data\": {\"outcomeType\": 1, \"valueTowardsCompletion\": 0.3333333333333333, \"interactionType\": 1, \"questionType\": 2, \"questionId\": \"3.1_PlotBlueScatter\", \"learnToolsVersion\": \"0.3.4\", \"failureMessage\": \"\", \"exceptionClass\": \"\", \"trace\": \"\"}}, \"*\")"
      ],
      "text/plain": [
       "<IPython.core.display.Javascript object>"
      ]
     },
     "metadata": {},
     "output_type": "display_data"
    },
    {
     "data": {
      "text/markdown": [
       "<span style=\"color:#33cc33\">Correct</span>"
      ],
      "text/plain": [
       "Correct"
      ]
     },
     "metadata": {},
     "output_type": "display_data"
    },
    {
     "data": {
      "image/png": "[encoded data removed]",
      "text/plain": [
       "<Figure size 640x480 with 1 Axes>"
      ]
     },
     "metadata": {},
     "output_type": "display_data"
    }
   ],
   "source": [
    "# Scatter plot showing the relationship between 'sugarpercent' and 'winpercent'\n",
    "sns.scatterplot(x='sugarpercent', y='winpercent', data=candy_data)\n",
    "\n",
    "# Your code here\n",
    "\n",
    "# Check your answer\n",
    "step_3.a.check()"
   ]
  },
  {
   "cell_type": "code",
   "execution_count": 9,
   "id": "a0ac56e1",
   "metadata": {
    "execution": {
     "iopub.execute_input": "2023-12-07T03:22:58.213260Z",
     "iopub.status.busy": "2023-12-07T03:22:58.212721Z",
     "iopub.status.idle": "2023-12-07T03:22:58.218300Z",
     "shell.execute_reply": "2023-12-07T03:22:58.217006Z"
    },
    "papermill": {
     "duration": 0.021508,
     "end_time": "2023-12-07T03:22:58.221009",
     "exception": false,
     "start_time": "2023-12-07T03:22:58.199501",
     "status": "completed"
    },
    "tags": []
   },
   "outputs": [],
   "source": [
    "# Lines below will give you a hint or solution code\n",
    "#step_3.a.hint()\n",
    "#step_3.a.solution_plot()"
   ]
  },
  {
   "cell_type": "markdown",
   "id": "b1d12403",
   "metadata": {
    "papermill": {
     "duration": 0.011283,
     "end_time": "2023-12-07T03:22:58.244124",
     "exception": false,
     "start_time": "2023-12-07T03:22:58.232841",
     "status": "completed"
    },
    "tags": []
   },
   "source": [
    "#### Part B\n",
    "\n",
    "Does the scatter plot show a **strong** correlation between the two variables?  If so, are candies with more sugar relatively more or less popular with the survey respondents?"
   ]
  },
  {
   "cell_type": "code",
   "execution_count": 10,
   "id": "098c7b87",
   "metadata": {
    "execution": {
     "iopub.execute_input": "2023-12-07T03:22:58.269888Z",
     "iopub.status.busy": "2023-12-07T03:22:58.269217Z",
     "iopub.status.idle": "2023-12-07T03:22:58.275613Z",
     "shell.execute_reply": "2023-12-07T03:22:58.274655Z"
    },
    "papermill": {
     "duration": 0.0232,
     "end_time": "2023-12-07T03:22:58.278843",
     "exception": false,
     "start_time": "2023-12-07T03:22:58.255643",
     "status": "completed"
    },
    "tags": []
   },
   "outputs": [],
   "source": [
    "#step_3.b.hint()"
   ]
  },
  {
   "cell_type": "code",
   "execution_count": 11,
   "id": "06c2cac6",
   "metadata": {
    "execution": {
     "iopub.execute_input": "2023-12-07T03:22:58.302422Z",
     "iopub.status.busy": "2023-12-07T03:22:58.301295Z",
     "iopub.status.idle": "2023-12-07T03:22:58.310508Z",
     "shell.execute_reply": "2023-12-07T03:22:58.309406Z"
    },
    "papermill": {
     "duration": 0.023242,
     "end_time": "2023-12-07T03:22:58.312906",
     "exception": false,
     "start_time": "2023-12-07T03:22:58.289664",
     "status": "completed"
    },
    "tags": []
   },
   "outputs": [
    {
     "data": {
      "application/javascript": [
       "parent.postMessage({\"jupyterEvent\": \"custom.exercise_interaction\", \"data\": {\"interactionType\": 3, \"questionType\": 4, \"questionId\": \"3.2_ThinkBlueScatter\", \"learnToolsVersion\": \"0.3.4\", \"valueTowardsCompletion\": 0.0, \"failureMessage\": \"\", \"exceptionClass\": \"\", \"trace\": \"\", \"outcomeType\": 4}}, \"*\")"
      ],
      "text/plain": [
       "<IPython.core.display.Javascript object>"
      ]
     },
     "metadata": {},
     "output_type": "display_data"
    },
    {
     "data": {
      "text/markdown": [
       "<span style=\"color:#33cc99\">Solution:</span> The scatter plot does not show a strong correlation between the two variables. Since there is no clear relationship between the two variables, this tells us that sugar content does not play a strong role in candy popularity."
      ],
      "text/plain": [
       "Solution: The scatter plot does not show a strong correlation between the two variables. Since there is no clear relationship between the two variables, this tells us that sugar content does not play a strong role in candy popularity."
      ]
     },
     "metadata": {},
     "output_type": "display_data"
    }
   ],
   "source": [
    "# Check your answer (Run this code cell to receive credit!)\n",
    "step_3.b.solution()"
   ]
  },
  {
   "cell_type": "markdown",
   "id": "a80d236c",
   "metadata": {
    "papermill": {
     "duration": 0.010002,
     "end_time": "2023-12-07T03:22:58.333311",
     "exception": false,
     "start_time": "2023-12-07T03:22:58.323309",
     "status": "completed"
    },
    "tags": []
   },
   "source": [
    "## Step 4: Take a closer look\n",
    "\n",
    "#### Part A\n",
    "\n",
    "Create the same scatter plot you created in **Step 3**, but now with a regression line!"
   ]
  },
  {
   "cell_type": "code",
   "execution_count": 12,
   "id": "0013fb1b",
   "metadata": {
    "execution": {
     "iopub.execute_input": "2023-12-07T03:22:58.358282Z",
     "iopub.status.busy": "2023-12-07T03:22:58.357364Z",
     "iopub.status.idle": "2023-12-07T03:22:58.752391Z",
     "shell.execute_reply": "2023-12-07T03:22:58.750665Z"
    },
    "papermill": {
     "duration": 0.410409,
     "end_time": "2023-12-07T03:22:58.754789",
     "exception": false,
     "start_time": "2023-12-07T03:22:58.344380",
     "status": "completed"
    },
    "tags": []
   },
   "outputs": [
    {
     "data": {
      "application/javascript": [
       "parent.postMessage({\"jupyterEvent\": \"custom.exercise_interaction\", \"data\": {\"outcomeType\": 1, \"valueTowardsCompletion\": 0.3333333333333333, \"interactionType\": 1, \"questionType\": 2, \"questionId\": \"4.1_PlotBlueReg\", \"learnToolsVersion\": \"0.3.4\", \"failureMessage\": \"\", \"exceptionClass\": \"\", \"trace\": \"\"}}, \"*\")"
      ],
      "text/plain": [
       "<IPython.core.display.Javascript object>"
      ]
     },
     "metadata": {},
     "output_type": "display_data"
    },
    {
     "data": {
      "text/markdown": [
       "<span style=\"color:#33cc33\">Correct</span>"
      ],
      "text/plain": [
       "Correct"
      ]
     },
     "metadata": {},
     "output_type": "display_data"
    },
    {
     "data": {
      "image/png": "[encoded data removed]",
      "text/plain": [
       "<Figure size 640x480 with 1 Axes>"
      ]
     },
     "metadata": {},
     "output_type": "display_data"
    }
   ],
   "source": [
    "# Scatter plot w/ regression line showing the relationship between 'sugarpercent' and 'winpercent'\n",
    "sns.regplot(x='sugarpercent', y='winpercent', data=candy_data) # Your code here\n",
    "\n",
    "# Check your answer\n",
    "step_4.a.check()"
   ]
  },
  {
   "cell_type": "code",
   "execution_count": 13,
   "id": "add862f6",
   "metadata": {
    "execution": {
     "iopub.execute_input": "2023-12-07T03:22:58.780226Z",
     "iopub.status.busy": "2023-12-07T03:22:58.779023Z",
     "iopub.status.idle": "2023-12-07T03:22:58.785026Z",
     "shell.execute_reply": "2023-12-07T03:22:58.783838Z"
    },
    "papermill": {
     "duration": 0.021732,
     "end_time": "2023-12-07T03:22:58.787789",
     "exception": false,
     "start_time": "2023-12-07T03:22:58.766057",
     "status": "completed"
    },
    "tags": []
   },
   "outputs": [],
   "source": [
    "# Lines below will give you a hint or solution code\n",
    "#step_4.a.hint()\n",
    "#step_4.a.solution_plot()"
   ]
  },
  {
   "cell_type": "markdown",
   "id": "0af014fe",
   "metadata": {
    "papermill": {
     "duration": 0.011121,
     "end_time": "2023-12-07T03:22:58.811012",
     "exception": false,
     "start_time": "2023-12-07T03:22:58.799891",
     "status": "completed"
    },
    "tags": []
   },
   "source": [
    "#### Part B\n",
    "\n",
    "According to the plot above, is there a **slight** correlation between `'winpercent'` and `'sugarpercent'`?  What does this tell you about the candy that people tend to prefer?"
   ]
  },
  {
   "cell_type": "code",
   "execution_count": 14,
   "id": "e7cc60cf",
   "metadata": {
    "execution": {
     "iopub.execute_input": "2023-12-07T03:22:58.837019Z",
     "iopub.status.busy": "2023-12-07T03:22:58.836579Z",
     "iopub.status.idle": "2023-12-07T03:22:58.841340Z",
     "shell.execute_reply": "2023-12-07T03:22:58.840216Z"
    },
    "papermill": {
     "duration": 0.020097,
     "end_time": "2023-12-07T03:22:58.843760",
     "exception": false,
     "start_time": "2023-12-07T03:22:58.823663",
     "status": "completed"
    },
    "tags": []
   },
   "outputs": [],
   "source": [
    "#step_4.b.hint()"
   ]
  },
  {
   "cell_type": "code",
   "execution_count": 15,
   "id": "e36372b7",
   "metadata": {
    "execution": {
     "iopub.execute_input": "2023-12-07T03:22:58.931105Z",
     "iopub.status.busy": "2023-12-07T03:22:58.930731Z",
     "iopub.status.idle": "2023-12-07T03:22:58.940999Z",
     "shell.execute_reply": "2023-12-07T03:22:58.939753Z"
    },
    "papermill": {
     "duration": 0.025949,
     "end_time": "2023-12-07T03:22:58.943639",
     "exception": false,
     "start_time": "2023-12-07T03:22:58.917690",
     "status": "completed"
    },
    "tags": []
   },
   "outputs": [
    {
     "data": {
      "application/javascript": [
       "parent.postMessage({\"jupyterEvent\": \"custom.exercise_interaction\", \"data\": {\"interactionType\": 3, \"questionType\": 4, \"questionId\": \"4.2_ThinkBlueReg\", \"learnToolsVersion\": \"0.3.4\", \"valueTowardsCompletion\": 0.0, \"failureMessage\": \"\", \"exceptionClass\": \"\", \"trace\": \"\", \"outcomeType\": 4}}, \"*\")"
      ],
      "text/plain": [
       "<IPython.core.display.Javascript object>"
      ]
     },
     "metadata": {},
     "output_type": "display_data"
    },
    {
     "data": {
      "text/markdown": [
       "<span style=\"color:#33cc99\">Solution:</span> Since the regression line has a slightly positive slope, this tells us that there is a slightly positive correlation between `'winpercent'` and `'sugarpercent'`. Thus, people have a slight preference for candies containing relatively more sugar."
      ],
      "text/plain": [
       "Solution: Since the regression line has a slightly positive slope, this tells us that there is a slightly positive correlation between `'winpercent'` and `'sugarpercent'`. Thus, people have a slight preference for candies containing relatively more sugar."
      ]
     },
     "metadata": {},
     "output_type": "display_data"
    }
   ],
   "source": [
    "# Check your answer (Run this code cell to receive credit!)\n",
    "step_4.b.solution()"
   ]
  },
  {
   "cell_type": "markdown",
   "id": "cd6ca3b6",
   "metadata": {
    "papermill": {
     "duration": 0.012094,
     "end_time": "2023-12-07T03:22:58.967099",
     "exception": false,
     "start_time": "2023-12-07T03:22:58.955005",
     "status": "completed"
    },
    "tags": []
   },
   "source": [
    "## Step 5: Chocolate!\n",
    "\n",
    "In the code cell below, create a scatter plot to show the relationship between `'pricepercent'` (on the horizontal x-axis) and `'winpercent'` (on the vertical y-axis). Use the `'chocolate'` column to color-code the points.  _Don't add any regression lines just yet -- you'll do that in the next step!_"
   ]
  },
  {
   "cell_type": "code",
   "execution_count": 16,
   "id": "bfb08f40",
   "metadata": {
    "execution": {
     "iopub.execute_input": "2023-12-07T03:22:58.991948Z",
     "iopub.status.busy": "2023-12-07T03:22:58.991285Z",
     "iopub.status.idle": "2023-12-07T03:22:59.293884Z",
     "shell.execute_reply": "2023-12-07T03:22:59.292782Z"
    },
    "papermill": {
     "duration": 0.317845,
     "end_time": "2023-12-07T03:22:59.296492",
     "exception": false,
     "start_time": "2023-12-07T03:22:58.978647",
     "status": "completed"
    },
    "tags": []
   },
   "outputs": [
    {
     "data": {
      "application/javascript": [
       "parent.postMessage({\"jupyterEvent\": \"custom.exercise_interaction\", \"data\": {\"outcomeType\": 1, \"valueTowardsCompletion\": 0.3333333333333333, \"interactionType\": 1, \"questionType\": 2, \"questionId\": \"5_ColorScatter\", \"learnToolsVersion\": \"0.3.4\", \"failureMessage\": \"\", \"exceptionClass\": \"\", \"trace\": \"\"}}, \"*\")"
      ],
      "text/plain": [
       "<IPython.core.display.Javascript object>"
      ]
     },
     "metadata": {},
     "output_type": "display_data"
    },
    {
     "data": {
      "text/markdown": [
       "<span style=\"color:#33cc33\">Correct</span>"
      ],
      "text/plain": [
       "Correct"
      ]
     },
     "metadata": {},
     "output_type": "display_data"
    },
    {
     "data": {
      "image/png": "[encoded data removed]",
      "text/plain": [
       "<Figure size 640x480 with 1 Axes>"
      ]
     },
     "metadata": {},
     "output_type": "display_data"
    }
   ],
   "source": [
    "# Scatter plot showing the relationship between 'pricepercent', 'winpercent', and 'chocolate'\n",
    "sns.scatterplot(x='pricepercent', y='winpercent', color='chocolate', data=candy_data) # Your code here\n",
    "\n",
    "# Check your answer\n",
    "step_5.check()"
   ]
  },
  {
   "cell_type": "code",
   "execution_count": 17,
   "id": "7b7ee43c",
   "metadata": {
    "execution": {
     "iopub.execute_input": "2023-12-07T03:22:59.323034Z",
     "iopub.status.busy": "2023-12-07T03:22:59.322069Z",
     "iopub.status.idle": "2023-12-07T03:22:59.326938Z",
     "shell.execute_reply": "2023-12-07T03:22:59.325812Z"
    },
    "papermill": {
     "duration": 0.021799,
     "end_time": "2023-12-07T03:22:59.330521",
     "exception": false,
     "start_time": "2023-12-07T03:22:59.308722",
     "status": "completed"
    },
    "tags": []
   },
   "outputs": [],
   "source": [
    "# Lines below will give you a hint or solution code\n",
    "#step_5.hint()\n",
    "#step_5.solution_plot()"
   ]
  },
  {
   "cell_type": "markdown",
   "id": "8674b2c2",
   "metadata": {
    "papermill": {
     "duration": 0.011725,
     "end_time": "2023-12-07T03:22:59.354391",
     "exception": false,
     "start_time": "2023-12-07T03:22:59.342666",
     "status": "completed"
    },
    "tags": []
   },
   "source": [
    "Can you see any interesting patterns in the scatter plot?  We'll investigate this plot further  by adding regression lines in the next step!\n",
    "\n",
    "## Step 6: Investigate chocolate\n",
    "\n",
    "#### Part A\n",
    "\n",
    "Create the same scatter plot you created in **Step 5**, but now with two regression lines, corresponding to (1) chocolate candies and (2) candies without chocolate."
   ]
  },
  {
   "cell_type": "code",
   "execution_count": 18,
   "id": "5e663607",
   "metadata": {
    "execution": {
     "iopub.execute_input": "2023-12-07T03:22:59.382138Z",
     "iopub.status.busy": "2023-12-07T03:22:59.381749Z",
     "iopub.status.idle": "2023-12-07T03:23:00.213162Z",
     "shell.execute_reply": "2023-12-07T03:23:00.212018Z"
    },
    "papermill": {
     "duration": 0.848691,
     "end_time": "2023-12-07T03:23:00.215666",
     "exception": false,
     "start_time": "2023-12-07T03:22:59.366975",
     "status": "completed"
    },
    "tags": []
   },
   "outputs": [
    {
     "data": {
      "application/javascript": [
       "parent.postMessage({\"jupyterEvent\": \"custom.exercise_interaction\", \"data\": {\"outcomeType\": 1, \"valueTowardsCompletion\": 0.3333333333333333, \"interactionType\": 1, \"questionType\": 2, \"questionId\": \"6.1_PlotColorReg\", \"learnToolsVersion\": \"0.3.4\", \"failureMessage\": \"\", \"exceptionClass\": \"\", \"trace\": \"\"}}, \"*\")"
      ],
      "text/plain": [
       "<IPython.core.display.Javascript object>"
      ]
     },
     "metadata": {},
     "output_type": "display_data"
    },
    {
     "data": {
      "text/markdown": [
       "<span style=\"color:#33cc33\">Correct</span>"
      ],
      "text/plain": [
       "Correct"
      ]
     },
     "metadata": {},
     "output_type": "display_data"
    },
    {
     "data": {
      "image/png": "[encoded data removed]",
      "text/plain": [
       "<Figure size 578.611x500 with 1 Axes>"
      ]
     },
     "metadata": {},
     "output_type": "display_data"
    }
   ],
   "source": [
    "# Color-coded scatter plot w/ regression lines\n",
    "sns.lmplot(x='pricepercent',y='winpercent', hue='chocolate', data=candy_data) # Your code here\n",
    "\n",
    "# Check your answer\n",
    "step_6.a.check()"
   ]
  },
  {
   "cell_type": "code",
   "execution_count": 19,
   "id": "d1ead48a",
   "metadata": {
    "execution": {
     "iopub.execute_input": "2023-12-07T03:23:00.244883Z",
     "iopub.status.busy": "2023-12-07T03:23:00.244485Z",
     "iopub.status.idle": "2023-12-07T03:23:00.249740Z",
     "shell.execute_reply": "2023-12-07T03:23:00.248590Z"
    },
    "papermill": {
     "duration": 0.022055,
     "end_time": "2023-12-07T03:23:00.251998",
     "exception": false,
     "start_time": "2023-12-07T03:23:00.229943",
     "status": "completed"
    },
    "tags": []
   },
   "outputs": [],
   "source": [
    "# Lines below will give you a hint or solution code\n",
    "#step_6.a.hint()\n",
    "#step_6.a.solution_plot()"
   ]
  },
  {
   "cell_type": "markdown",
   "id": "0629427d",
   "metadata": {
    "papermill": {
     "duration": 0.012682,
     "end_time": "2023-12-07T03:23:00.277884",
     "exception": false,
     "start_time": "2023-12-07T03:23:00.265202",
     "status": "completed"
    },
    "tags": []
   },
   "source": [
    "#### Part B\n",
    "\n",
    "Using the regression lines, what conclusions can you draw about the effects of chocolate and price on candy popularity?"
   ]
  },
  {
   "cell_type": "code",
   "execution_count": 20,
   "id": "4a98c0eb",
   "metadata": {
    "execution": {
     "iopub.execute_input": "2023-12-07T03:23:00.306756Z",
     "iopub.status.busy": "2023-12-07T03:23:00.306367Z",
     "iopub.status.idle": "2023-12-07T03:23:00.310865Z",
     "shell.execute_reply": "2023-12-07T03:23:00.309688Z"
    },
    "papermill": {
     "duration": 0.021805,
     "end_time": "2023-12-07T03:23:00.313121",
     "exception": false,
     "start_time": "2023-12-07T03:23:00.291316",
     "status": "completed"
    },
    "tags": []
   },
   "outputs": [],
   "source": [
    "#step_6.b.hint()"
   ]
  },
  {
   "cell_type": "code",
   "execution_count": 21,
   "id": "6166574b",
   "metadata": {
    "execution": {
     "iopub.execute_input": "2023-12-07T03:23:00.341136Z",
     "iopub.status.busy": "2023-12-07T03:23:00.340763Z",
     "iopub.status.idle": "2023-12-07T03:23:00.349662Z",
     "shell.execute_reply": "2023-12-07T03:23:00.348428Z"
    },
    "papermill": {
     "duration": 0.02595,
     "end_time": "2023-12-07T03:23:00.352260",
     "exception": false,
     "start_time": "2023-12-07T03:23:00.326310",
     "status": "completed"
    },
    "tags": []
   },
   "outputs": [
    {
     "data": {
      "application/javascript": [
       "parent.postMessage({\"jupyterEvent\": \"custom.exercise_interaction\", \"data\": {\"interactionType\": 3, \"questionType\": 4, \"questionId\": \"6.2_ThinkColorReg\", \"learnToolsVersion\": \"0.3.4\", \"valueTowardsCompletion\": 0.0, \"failureMessage\": \"\", \"exceptionClass\": \"\", \"trace\": \"\", \"outcomeType\": 4}}, \"*\")"
      ],
      "text/plain": [
       "<IPython.core.display.Javascript object>"
      ]
     },
     "metadata": {},
     "output_type": "display_data"
    },
    {
     "data": {
      "text/markdown": [
       "<span style=\"color:#33cc99\">Solution:</span> We'll begin with the regression line for chocolate candies. Since this line has a slightly positive slope, we can say that more expensive chocolate candies tend to be more popular (than relatively cheaper chocolate candies).  Likewise, since the regression line for candies without chocolate has a negative slope, we can say that if candies don't contain chocolate, they tend to be more popular when they are cheaper.  One important note, however, is that the dataset is quite small -- so we shouldn't invest too much trust in these patterns!  To inspire more confidence in the results, we should add more candies to the dataset."
      ],
      "text/plain": [
       "Solution: We'll begin with the regression line for chocolate candies. Since this line has a slightly positive slope, we can say that more expensive chocolate candies tend to be more popular (than relatively cheaper chocolate candies).  Likewise, since the regression line for candies without chocolate has a negative slope, we can say that if candies don't contain chocolate, they tend to be more popular when they are cheaper.  One important note, however, is that the dataset is quite small -- so we shouldn't invest too much trust in these patterns!  To inspire more confidence in the results, we should add more candies to the dataset."
      ]
     },
     "metadata": {},
     "output_type": "display_data"
    }
   ],
   "source": [
    "# Check your answer (Run this code cell to receive credit!)\n",
    "step_6.b.solution()"
   ]
  },
  {
   "cell_type": "markdown",
   "id": "95bd53c5",
   "metadata": {
    "papermill": {
     "duration": 0.012992,
     "end_time": "2023-12-07T03:23:00.378434",
     "exception": false,
     "start_time": "2023-12-07T03:23:00.365442",
     "status": "completed"
    },
    "tags": []
   },
   "source": [
    "## Step 7: Everybody loves chocolate.\n",
    "\n",
    "#### Part A\n",
    "\n",
    "Create a categorical scatter plot to highlight the relationship between `'chocolate'` and `'winpercent'`.  Put `'chocolate'` on the (horizontal) x-axis, and `'winpercent'` on the (vertical) y-axis."
   ]
  },
  {
   "cell_type": "code",
   "execution_count": 22,
   "id": "0d77f12a",
   "metadata": {
    "execution": {
     "iopub.execute_input": "2023-12-07T03:23:00.406521Z",
     "iopub.status.busy": "2023-12-07T03:23:00.406119Z",
     "iopub.status.idle": "2023-12-07T03:23:00.763700Z",
     "shell.execute_reply": "2023-12-07T03:23:00.762401Z"
    },
    "papermill": {
     "duration": 0.374772,
     "end_time": "2023-12-07T03:23:00.766307",
     "exception": false,
     "start_time": "2023-12-07T03:23:00.391535",
     "status": "completed"
    },
    "tags": []
   },
   "outputs": [
    {
     "data": {
      "application/javascript": [
       "parent.postMessage({\"jupyterEvent\": \"custom.exercise_interaction\", \"data\": {\"outcomeType\": 1, \"valueTowardsCompletion\": 0.3333333333333333, \"interactionType\": 1, \"questionType\": 2, \"questionId\": \"7.1_PlotSwarm\", \"learnToolsVersion\": \"0.3.4\", \"failureMessage\": \"\", \"exceptionClass\": \"\", \"trace\": \"\"}}, \"*\")"
      ],
      "text/plain": [
       "<IPython.core.display.Javascript object>"
      ]
     },
     "metadata": {},
     "output_type": "display_data"
    },
    {
     "data": {
      "text/markdown": [
       "<span style=\"color:#33cc33\">Correct</span>"
      ],
      "text/plain": [
       "Correct"
      ]
     },
     "metadata": {},
     "output_type": "display_data"
    },
    {
     "data": {
      "image/png": "[encoded data removed]",
      "text/plain": [
       "<Figure size 640x480 with 1 Axes>"
      ]
     },
     "metadata": {},
     "output_type": "display_data"
    }
   ],
   "source": [
    "# Scatter plot showing the relationship between 'chocolate' and 'winpercent'\n",
    "sns.swarmplot(data=candy_data, x='chocolate', y='winpercent') # Your code here\n",
    "\n",
    "# Check your answer\n",
    "step_7.a.check()"
   ]
  },
  {
   "cell_type": "code",
   "execution_count": 23,
   "id": "ee058f16",
   "metadata": {
    "execution": {
     "iopub.execute_input": "2023-12-07T03:23:00.799642Z",
     "iopub.status.busy": "2023-12-07T03:23:00.799227Z",
     "iopub.status.idle": "2023-12-07T03:23:00.807840Z",
     "shell.execute_reply": "2023-12-07T03:23:00.806787Z"
    },
    "papermill": {
     "duration": 0.028806,
     "end_time": "2023-12-07T03:23:00.810286",
     "exception": false,
     "start_time": "2023-12-07T03:23:00.781480",
     "status": "completed"
    },
    "tags": []
   },
   "outputs": [
    {
     "data": {
      "application/javascript": [
       "parent.postMessage({\"jupyterEvent\": \"custom.exercise_interaction\", \"data\": {\"interactionType\": 2, \"questionType\": 2, \"questionId\": \"7.1_PlotSwarm\", \"learnToolsVersion\": \"0.3.4\", \"valueTowardsCompletion\": 0.0, \"failureMessage\": \"\", \"exceptionClass\": \"\", \"trace\": \"\", \"outcomeType\": 4}}, \"*\")"
      ],
      "text/plain": [
       "<IPython.core.display.Javascript object>"
      ]
     },
     "metadata": {},
     "output_type": "display_data"
    },
    {
     "data": {
      "text/markdown": [
       "<span style=\"color:#3366cc\">Hint:</span> Use `sns.swarmplot`, and set the variables for the x-axis and y-axis by using `x=` and `y=`, respectively."
      ],
      "text/plain": [
       "Hint: Use `sns.swarmplot`, and set the variables for the x-axis and y-axis by using `x=` and `y=`, respectively."
      ]
     },
     "metadata": {},
     "output_type": "display_data"
    }
   ],
   "source": [
    "# Lines below will give you a hint or solution code\n",
    "step_7.a.hint()\n",
    "#step_7.a.solution_plot()"
   ]
  },
  {
   "cell_type": "markdown",
   "id": "d50cd71b",
   "metadata": {
    "papermill": {
     "duration": 0.014994,
     "end_time": "2023-12-07T03:23:00.839409",
     "exception": false,
     "start_time": "2023-12-07T03:23:00.824415",
     "status": "completed"
    },
    "tags": []
   },
   "source": [
    "#### Part B\n",
    "\n",
    "You decide to dedicate a section of your report to the fact that chocolate candies tend to be more popular than candies without chocolate.  Which plot is more appropriate to tell this story: the plot from **Step 6**, or the plot from **Step 7**?"
   ]
  },
  {
   "cell_type": "code",
   "execution_count": 24,
   "id": "9ae34af0",
   "metadata": {
    "execution": {
     "iopub.execute_input": "2023-12-07T03:23:00.870435Z",
     "iopub.status.busy": "2023-12-07T03:23:00.869610Z",
     "iopub.status.idle": "2023-12-07T03:23:00.874487Z",
     "shell.execute_reply": "2023-12-07T03:23:00.873573Z"
    },
    "papermill": {
     "duration": 0.024226,
     "end_time": "2023-12-07T03:23:00.878102",
     "exception": false,
     "start_time": "2023-12-07T03:23:00.853876",
     "status": "completed"
    },
    "tags": []
   },
   "outputs": [],
   "source": [
    "#step_7.b.hint()"
   ]
  },
  {
   "cell_type": "code",
   "execution_count": 25,
   "id": "838aec5d",
   "metadata": {
    "execution": {
     "iopub.execute_input": "2023-12-07T03:23:00.908707Z",
     "iopub.status.busy": "2023-12-07T03:23:00.907921Z",
     "iopub.status.idle": "2023-12-07T03:23:00.917770Z",
     "shell.execute_reply": "2023-12-07T03:23:00.916572Z"
    },
    "papermill": {
     "duration": 0.027819,
     "end_time": "2023-12-07T03:23:00.920099",
     "exception": false,
     "start_time": "2023-12-07T03:23:00.892280",
     "status": "completed"
    },
    "tags": []
   },
   "outputs": [
    {
     "data": {
      "application/javascript": [
       "parent.postMessage({\"jupyterEvent\": \"custom.exercise_interaction\", \"data\": {\"interactionType\": 3, \"questionType\": 4, \"questionId\": \"7.2_ThinkSwarm\", \"learnToolsVersion\": \"0.3.4\", \"valueTowardsCompletion\": 0.0, \"failureMessage\": \"\", \"exceptionClass\": \"\", \"trace\": \"\", \"outcomeType\": 4}}, \"*\")"
      ],
      "text/plain": [
       "<IPython.core.display.Javascript object>"
      ]
     },
     "metadata": {},
     "output_type": "display_data"
    },
    {
     "data": {
      "text/markdown": [
       "<span style=\"color:#33cc99\">Solution:</span> In this case, the categorical scatter plot from **Step 7** is the more appropriate plot. While both plots tell the desired story, the plot from **Step 6** conveys far more information that could distract from the main point."
      ],
      "text/plain": [
       "Solution: In this case, the categorical scatter plot from **Step 7** is the more appropriate plot. While both plots tell the desired story, the plot from **Step 6** conveys far more information that could distract from the main point."
      ]
     },
     "metadata": {},
     "output_type": "display_data"
    }
   ],
   "source": [
    "# Check your answer (Run this code cell to receive credit!)\n",
    "step_7.b.solution()"
   ]
  },
  {
   "cell_type": "markdown",
   "id": "2ae428c4",
   "metadata": {
    "papermill": {
     "duration": 0.014022,
     "end_time": "2023-12-07T03:23:00.949879",
     "exception": false,
     "start_time": "2023-12-07T03:23:00.935857",
     "status": "completed"
    },
    "tags": []
   },
   "source": [
    "## Keep going\n",
    "\n",
    "Explore **[histograms and density plots](https://www.kaggle.com/alexisbcook/distributions)**."
   ]
  },
  {
   "cell_type": "markdown",
   "id": "0232847f",
   "metadata": {
    "papermill": {
     "duration": 0.014727,
     "end_time": "2023-12-07T03:23:00.978623",
     "exception": false,
     "start_time": "2023-12-07T03:23:00.963896",
     "status": "completed"
    },
    "tags": []
   },
   "source": [
    "---\n",
    "\n",
    "\n",
    "\n",
    "\n",
    "*Have questions or comments? Visit the [course discussion forum](https://www.kaggle.com/learn/data-visualization/discussion) to chat with other learners.*"
   ]
  }
 ],
 "metadata": {
  "kaggle": {
   "accelerator": "none",
   "dataSources": [
    {
     "datasetId": 116573,
     "sourceId": 3551030,
     "sourceType": "datasetVersion"
    }
   ],
   "isGpuEnabled": false,
   "isInternetEnabled": false,
   "language": "python",
   "sourceType": "notebook"
  },
  "kernelspec": {
   "display_name": "Python 3",
   "language": "python",
   "name": "python3"
  },
  "language_info": {
   "codemirror_mode": {
    "name": "ipython",
    "version": 3
   },
   "file_extension": ".py",
   "mimetype": "text/x-python",
   "name": "python",
   "nbconvert_exporter": "python",
   "pygments_lexer": "ipython3",
   "version": "3.10.12"
  },
  "papermill": {
   "default_parameters": {},
   "duration": 9.259742,
   "end_time": "2023-12-07T03:23:01.614465",
   "environment_variables": {},
   "exception": null,
   "input_path": "__notebook__.ipynb",
   "output_path": "__notebook__.ipynb",
   "parameters": {},
   "start_time": "2023-12-07T03:22:52.354723",
   "version": "2.4.0"
  }
 },
 "nbformat": 4,
 "nbformat_minor": 5
}
